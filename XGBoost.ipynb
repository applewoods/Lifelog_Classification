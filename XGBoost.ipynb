{
 "cells": [
  {
   "cell_type": "code",
   "execution_count": 1,
   "metadata": {},
   "outputs": [],
   "source": [
    "from warnings import filterwarnings\n",
    "filterwarnings(action= 'ignore')\n",
    "\n",
    "import os\n",
    "import pandas as pd\n",
    "import numpy as np\n",
    "import random\n",
    "import joblib\n",
    "\n",
    "from tqdm import tqdm\n",
    "\n",
    "# 머신러닝\n",
    "from sklearn.model_selection import KFold\n",
    "from sklearn import preprocessing\n",
    "# from sklearn.svm import SVC\n",
    "# from sklearn.neighbors import KNeighborsClassifier\n",
    "# from sklearn.ensemble import RandomForestClassifier\n",
    "# from sklearn.naive_bayes import GaussianNB\n",
    "from sklearn.model_selection import GridSearchCV\n",
    "\n",
    "# 앙상블\n",
    "# from sklearn.ensemble import VotingClassifier, BaggingClassifier, GradientBoostingClassifier\n",
    "from xgboost import XGBClassifier\n",
    "# from catboost import CatBoostClassifier\n",
    "\n",
    "# 모델 평가\n",
    "from sklearn.metrics import accuracy_score, precision_score, recall_score, f1_score\n",
    "\n",
    "# DataLoad\n",
    "from DataLoad import train_test\n",
    "from model_score import sklearn_model_score, exist_model_score"
   ]
  },
  {
   "cell_type": "code",
   "execution_count": 2,
   "metadata": {},
   "outputs": [
    {
     "name": "stderr",
     "output_type": "stream",
     "text": [
      "100%|██████████| 82/82 [00:18<00:00,  4.45it/s]\n",
      "100%|██████████| 18/18 [00:03<00:00,  4.75it/s]\n"
     ]
    }
   ],
   "source": [
    "train_X, train_y, test_X, test_y = train_test()\n",
    "kfold = KFold(n_splits= 5, shuffle= True, random_state= 0)"
   ]
  },
  {
   "cell_type": "code",
   "execution_count": null,
   "metadata": {},
   "outputs": [],
   "source": [
    "params_xgb = {\n",
    "    'n_estimators' : [300, 400],\n",
    "    'max_depth' : [8, 40, 80, 120],\n",
    "    # 'max_depth' : [8],\n",
    "    # 'min_split_loss' : [],\n",
    "    'learning_rate' : [0.1, 0.3],\n",
    "    # 'early_stopping_rounds' : [5]\n",
    "}"
   ]
  },
  {
   "cell_type": "code",
   "execution_count": null,
   "metadata": {},
   "outputs": [],
   "source": [
    "xgb_classification = XGBClassifier()\n",
    "search_xgb = GridSearchCV(xgb_classification, param_grid= params_xgb, cv= kfold, refit= True, verbose= 2)\n",
    "search_xgb.fit(train_X, train_y.values.ravel())\n",
    "\n",
    "resultXGB = pd.DataFrame(search_xgb.cv_results_)\n",
    "resultXGB.to_csv('./Data/Result/performance_xgb.csv', index= False)\n",
    "\n",
    "joblib.dump(search_xgb.best_estimator_, './models/model_xgb_best_estimator_.pkl')\n",
    "joblib.dump(search_xgb, './models/model_xgb.pkl')\n",
    "\n",
    "y_pred = search_xgb.predict(test_X)"
   ]
  },
  {
   "cell_type": "code",
   "execution_count": 3,
   "metadata": {},
   "outputs": [
    {
     "name": "stdout",
     "output_type": "stream",
     "text": [
      "weighted 평균\n",
      "Accuracy : 0.943434\n",
      "Precision(weighted) : 0.942384\n",
      "Recall(weighted) : 0.943434\n",
      "F1-score(weighted) : 0.942688\n",
      "\n"
     ]
    }
   ],
   "source": [
    "xgb = joblib.load('./models/model_xgb.pkl')\n",
    "\n",
    "y_pred = xgb.predict(test_X)\n",
    "\n",
    "# sklearn_model_score(test_y.values.ravel(), y_pred, 'macro')\n",
    "# sklearn_model_score(test_y.values.ravel(), y_pred, 'micro')\n",
    "exist_model_score(test_y.values.ravel(), y_pred, 'weighted')"
   ]
  },
  {
   "cell_type": "code",
   "execution_count": 4,
   "metadata": {},
   "outputs": [
    {
     "data": {
      "text/plain": [
       "{0, 1, 2, 3, 4}"
      ]
     },
     "execution_count": 4,
     "metadata": {},
     "output_type": "execute_result"
    }
   ],
   "source": [
    "set(y_pred)"
   ]
  },
  {
   "cell_type": "code",
   "execution_count": 5,
   "metadata": {},
   "outputs": [
    {
     "name": "stdout",
     "output_type": "stream",
     "text": [
      "weighted 평균\n",
      "Accuracy : 0.182877\n",
      "Precision(weighted) : 0.182877\n",
      "Recall(weighted) : 0.182877\n",
      "F1-score(weighted) : 0.182877\n",
      "\n",
      "weighted 평균\n",
      "Accuracy : 0.479732\n",
      "Precision(weighted) : 0.475267\n",
      "Recall(weighted) : 0.479732\n",
      "F1-score(weighted) : 0.477489\n",
      "\n",
      "weighted 평균\n",
      "Accuracy : 0.255260\n",
      "Precision(weighted) : 0.253900\n",
      "Recall(weighted) : 0.255260\n",
      "F1-score(weighted) : 0.254579\n",
      "\n",
      "weighted 평균\n",
      "Accuracy : 0.018234\n",
      "Precision(weighted) : 0.022018\n",
      "Recall(weighted) : 0.018234\n",
      "F1-score(weighted) : 0.019948\n",
      "\n",
      "weighted 평균\n",
      "Accuracy : 0.007332\n",
      "Precision(weighted) : 0.008322\n",
      "Recall(weighted) : 0.007332\n",
      "F1-score(weighted) : 0.007796\n",
      "\n"
     ]
    }
   ],
   "source": [
    "pred = y_pred\n",
    "\n",
    "class0 = [x if x == 0 else 5 for x in pred ]\n",
    "class1 = [x if x == 1 else 5 for x in pred ]\n",
    "class2 = [x if x == 2 else 5 for x in pred ]\n",
    "class3 = [x if x == 3 else 5 for x in pred ]\n",
    "class4 = [x if x == 4 else 5 for x in pred ]\n",
    "\n",
    "exist_model_score(test_y.values.ravel(), class0, 'weighted')\n",
    "exist_model_score(test_y.values.ravel(), class1, 'weighted')\n",
    "exist_model_score(test_y.values.ravel(), class2, 'weighted')\n",
    "exist_model_score(test_y.values.ravel(), class3, 'weighted')\n",
    "exist_model_score(test_y.values.ravel(), class4, 'weighted')"
   ]
  },
  {
   "cell_type": "code",
   "execution_count": null,
   "metadata": {},
   "outputs": [],
   "source": []
  }
 ],
 "metadata": {
  "kernelspec": {
   "display_name": "Python 3.9.12 ('lifelog')",
   "language": "python",
   "name": "python3"
  },
  "language_info": {
   "codemirror_mode": {
    "name": "ipython",
    "version": 3
   },
   "file_extension": ".py",
   "mimetype": "text/x-python",
   "name": "python",
   "nbconvert_exporter": "python",
   "pygments_lexer": "ipython3",
   "version": "3.9.12"
  },
  "orig_nbformat": 4,
  "vscode": {
   "interpreter": {
    "hash": "42da9d2a73a6d7daae2a97e6c37d06bd81de6a055efe49e5746b2a456ba1ff08"
   }
  }
 },
 "nbformat": 4,
 "nbformat_minor": 2
}
