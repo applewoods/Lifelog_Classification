{
 "cells": [
  {
   "cell_type": "code",
   "execution_count": 1,
   "metadata": {},
   "outputs": [],
   "source": [
    "from warnings import filterwarnings\n",
    "filterwarnings(action= 'ignore')\n",
    "import pandas as pd\n",
    "import numpy as np\n",
    "\n",
    "from sklearn.model_selection import KFold\n",
    "from sklearn import preprocessing\n",
    "from sklearn.svm import SVC\n",
    "from sklearn.neighbors import KNeighborsClassifier\n",
    "from sklearn.ensemble import RandomForestClassifier\n",
    "from sklearn.naive_bayes import GaussianNB\n",
    "from sklearn.model_selection import GridSearchCV\n",
    "from sklearn.ensemble import VotingClassifier, BaggingClassifier, GradientBoostingClassifier\n",
    "\n",
    "from DataLoad import train_test\n",
    "from model_score import sklearn_model_score, exist_model_score\n",
    "\n",
    "import joblib"
   ]
  },
  {
   "cell_type": "code",
   "execution_count": 2,
   "metadata": {},
   "outputs": [
    {
     "name": "stderr",
     "output_type": "stream",
     "text": [
      "100%|██████████| 82/82 [00:19<00:00,  4.24it/s]\n",
      "100%|██████████| 18/18 [00:03<00:00,  4.55it/s]\n"
     ]
    }
   ],
   "source": [
    "train_X, train_y, test_X, test_y = train_test()\n",
    "kfold = KFold(n_splits= 5, shuffle= True, random_state= 0)"
   ]
  },
  {
   "cell_type": "code",
   "execution_count": 3,
   "metadata": {},
   "outputs": [],
   "source": [
    "paramsSVM = {\n",
    "    'C': [1, 5, 10, 50, 100],\n",
    "    'gamma': [1, 5, 10, 50, 100]\n",
    "}"
   ]
  },
  {
   "cell_type": "code",
   "execution_count": 4,
   "metadata": {},
   "outputs": [
    {
     "name": "stdout",
     "output_type": "stream",
     "text": [
      "Fitting 5 folds for each of 25 candidates, totalling 125 fits\n",
      "[CV] END .......................................C=1, gamma=1; total time=42.6min\n",
      "[CV] END .......................................C=1, gamma=1; total time=26.8min\n",
      "[CV] END .......................................C=1, gamma=1; total time=26.6min\n",
      "[CV] END .......................................C=1, gamma=1; total time=28.1min\n",
      "[CV] END .......................................C=1, gamma=1; total time=29.5min\n",
      "[CV] END .......................................C=1, gamma=5; total time=48.1min\n",
      "[CV] END .......................................C=1, gamma=5; total time=47.8min\n",
      "[CV] END .......................................C=1, gamma=5; total time=35.5min\n",
      "[CV] END .......................................C=1, gamma=5; total time=37.8min\n",
      "[CV] END .......................................C=1, gamma=5; total time=36.7min\n",
      "[CV] END ......................................C=1, gamma=10; total time=53.6min\n",
      "[CV] END .....................................C=1, gamma=10; total time=268.9min\n",
      "[CV] END .....................................C=1, gamma=10; total time=227.0min\n",
      "[CV] END .....................................C=1, gamma=10; total time=149.9min\n",
      "[CV] END .....................................C=1, gamma=10; total time=179.7min\n",
      "[CV] END .....................................C=1, gamma=50; total time=103.4min\n",
      "[CV] END .....................................C=1, gamma=50; total time=217.1min\n",
      "[CV] END ......................................C=1, gamma=50; total time=46.7min\n",
      "[CV] END ......................................C=1, gamma=50; total time=58.9min\n",
      "[CV] END ......................................C=1, gamma=50; total time=46.2min\n",
      "[CV] END .....................................C=1, gamma=100; total time=49.2min\n"
     ]
    }
   ],
   "source": [
    "SV = SVC()\n",
    "SearchSV = GridSearchCV(SV, param_grid=paramsSVM, cv=kfold, refit=True, verbose=2)\n",
    "SearchSV.fit(train_X, train_y.values.ravel())\n",
    "resultSVM = pd.DataFrame(SearchSV.cv_results_)\n",
    "resultSVM.to_csv('./Data/Result/performance_svm_.csv', index= False)\n",
    "\n",
    "BestSV = SearchSV.best_estimator_\n",
    "joblib.dump(BestSV, './models/model_svm_best_estimator.pkl')\n",
    "joblib.dump(SearchSV, './models/model_svm_best.pkl')\n",
    "\n",
    "best_svm_pred = SearchSV.predict(test_X)\n",
    "# model_score(test_y.values.ravel(), best_svm_pred)"
   ]
  },
  {
   "cell_type": "code",
   "execution_count": null,
   "metadata": {},
   "outputs": [],
   "source": [
    "print(BestSV)"
   ]
  },
  {
   "cell_type": "code",
   "execution_count": null,
   "metadata": {},
   "outputs": [],
   "source": [
    "sklearn_model_score(test_y.values.ravel(), best_svm_pred, 'macro')\n",
    "sklearn_model_score(test_y.values.ravel(), best_svm_pred, 'micro')\n",
    "exist_model_score(test_y.values.ravel(), best_svm_pred, 'weighted')"
   ]
  }
 ],
 "metadata": {
  "kernelspec": {
   "display_name": "Python 3.9.12 ('lifelog')",
   "language": "python",
   "name": "python3"
  },
  "language_info": {
   "codemirror_mode": {
    "name": "ipython",
    "version": 3
   },
   "file_extension": ".py",
   "mimetype": "text/x-python",
   "name": "python",
   "nbconvert_exporter": "python",
   "pygments_lexer": "ipython3",
   "version": "3.9.12"
  },
  "orig_nbformat": 4,
  "vscode": {
   "interpreter": {
    "hash": "42da9d2a73a6d7daae2a97e6c37d06bd81de6a055efe49e5746b2a456ba1ff08"
   }
  }
 },
 "nbformat": 4,
 "nbformat_minor": 2
}
