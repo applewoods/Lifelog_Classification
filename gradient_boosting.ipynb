{
 "cells": [
  {
   "cell_type": "code",
   "execution_count": 3,
   "metadata": {},
   "outputs": [],
   "source": [
    "from warnings import filterwarnings\n",
    "filterwarnings(action= 'ignore')\n",
    "\n",
    "import os\n",
    "import pandas as pd\n",
    "import numpy as np\n",
    "import random\n",
    "import joblib\n",
    "\n",
    "from tqdm import tqdm\n",
    "\n",
    "# 머신러닝\n",
    "from sklearn.model_selection import KFold\n",
    "from sklearn import preprocessing\n",
    "# from sklearn.svm import SVC\n",
    "# from sklearn.neighbors import KNeighborsClassifier\n",
    "# from sklearn.ensemble import RandomForestClassifier\n",
    "# from sklearn.naive_bayes import GaussianNB\n",
    "from sklearn.model_selection import GridSearchCV\n",
    "\n",
    "# 앙상블\n",
    "from sklearn.ensemble import VotingClassifier, BaggingClassifier, GradientBoostingClassifier\n",
    "# from xgboost import XGBClassifier\n",
    "# from catboost import CatBoostClassifier\n",
    "\n",
    "# 모델 평가\n",
    "# from sklearn.metrics import accuracy_score, precision_score, recall_score, f1_score\n",
    "\n",
    "# DataLoad\n",
    "from DataLoad import train_test\n",
    "from model_score import sklearn_model_score, exist_model_score"
   ]
  },
  {
   "cell_type": "code",
   "execution_count": 4,
   "metadata": {},
   "outputs": [
    {
     "name": "stderr",
     "output_type": "stream",
     "text": [
      "100%|██████████| 82/82 [00:18<00:00,  4.33it/s]\n",
      "100%|██████████| 18/18 [00:03<00:00,  4.59it/s]\n"
     ]
    }
   ],
   "source": [
    "train_X, train_y, test_X, test_y = train_test()\n",
    "kfold = KFold(n_splits= 5, shuffle= True, random_state= 0)"
   ]
  },
  {
   "cell_type": "code",
   "execution_count": null,
   "metadata": {},
   "outputs": [],
   "source": [
    "params_gbm = {\n",
    "    'n_estimators' : [10, 50, 100, 150, 200, 250, 300],\n",
    "    'learning_rate' : [0.1, 0.3, 0.5, 0.7, 0.9],\n",
    "    'max_depth' : [1, 2, 4, 8],\n",
    "    # 'max_features' : [5]\n",
    "}"
   ]
  },
  {
   "cell_type": "code",
   "execution_count": null,
   "metadata": {},
   "outputs": [],
   "source": [
    "gbm = GradientBoostingClassifier()\n",
    "gbm_searchCV = GridSearchCV(gbm, param_grid=params_gbm, cv=kfold, refit=True, verbose=2)\n",
    "gbm_searchCV.fit(train_X, train_y.values.ravel())\n",
    "\n",
    "resultGBM = pd.DataFrame(gbm_searchCV.cv_results_)\n",
    "resultGBM.to_csv('./Data/Result/performance_gbm_.csv', index= False)\n",
    "\n",
    "\n",
    "joblib.dump(gbm_searchCV.best_estimator_, './models/model_gbm_best_estimators_.pkl')\n",
    "joblib.dump(gbm_searchCV, './models/model_gbm.pkl')\n",
    "# joblib.dump(gbm.estimators_, './models/model_gbm_estimators.pkl')\n",
    "# joblib.dump(gbm, './models/model_gbm.pkl')"
   ]
  },
  {
   "cell_type": "code",
   "execution_count": 5,
   "metadata": {},
   "outputs": [
    {
     "data": {
      "text/plain": [
       "GradientBoostingClassifier(max_depth=2, n_estimators=250)"
      ]
     },
     "execution_count": 5,
     "metadata": {},
     "output_type": "execute_result"
    }
   ],
   "source": [
    "gbm_best = joblib.load('./models/model_gbm_best.pkl')\n",
    "gbm_best.best_estimator_"
   ]
  },
  {
   "cell_type": "code",
   "execution_count": 5,
   "metadata": {},
   "outputs": [
    {
     "name": "stdout",
     "output_type": "stream",
     "text": [
      "weighted 평균\n",
      "Accuracy : 0.943731\n",
      "Precision(weighted) : 0.942787\n",
      "Recall(weighted) : 0.943731\n",
      "F1-score(weighted) : 0.943056\n",
      "\n"
     ]
    }
   ],
   "source": [
    "gbm_best = joblib.load('./models/model_gbm_best.pkl')\n",
    "best_gbm_pred = gbm_best.predict(test_X)\n",
    "\n",
    "# sklearn_model_score(test_y.values.ravel(), best_gbm_pred, 'macro')\n",
    "# sklearn_model_score(test_y.values.ravel(), best_gbm_pred, 'micro')\n",
    "exist_model_score(test_y.values.ravel(), best_gbm_pred, 'weighted')"
   ]
  },
  {
   "cell_type": "code",
   "execution_count": 6,
   "metadata": {},
   "outputs": [
    {
     "data": {
      "text/plain": [
       "GradientBoostingClassifier(max_depth=2, n_estimators=250)"
      ]
     },
     "execution_count": 6,
     "metadata": {},
     "output_type": "execute_result"
    }
   ],
   "source": [
    "gbm_best.best_estimator_"
   ]
  },
  {
   "cell_type": "code",
   "execution_count": 7,
   "metadata": {},
   "outputs": [
    {
     "data": {
      "text/plain": [
       "{0, 1, 2, 3, 4}"
      ]
     },
     "execution_count": 7,
     "metadata": {},
     "output_type": "execute_result"
    }
   ],
   "source": [
    "set(best_gbm_pred)"
   ]
  },
  {
   "cell_type": "code",
   "execution_count": 8,
   "metadata": {},
   "outputs": [
    {
     "name": "stdout",
     "output_type": "stream",
     "text": [
      "weighted 평균\n",
      "Accuracy : 0.182877\n",
      "Precision(weighted) : 0.182877\n",
      "Recall(weighted) : 0.182877\n",
      "F1-score(weighted) : 0.182877\n",
      "\n",
      "weighted 평균\n",
      "Accuracy : 0.479181\n",
      "Precision(weighted) : 0.475876\n",
      "Recall(weighted) : 0.479181\n",
      "F1-score(weighted) : 0.477523\n",
      "\n",
      "weighted 평균\n",
      "Accuracy : 0.255864\n",
      "Precision(weighted) : 0.253626\n",
      "Recall(weighted) : 0.255864\n",
      "F1-score(weighted) : 0.254740\n",
      "\n",
      "weighted 평균\n",
      "Accuracy : 0.018446\n",
      "Precision(weighted) : 0.022070\n",
      "Recall(weighted) : 0.018446\n",
      "F1-score(weighted) : 0.020096\n",
      "\n",
      "weighted 평균\n",
      "Accuracy : 0.007363\n",
      "Precision(weighted) : 0.008338\n",
      "Recall(weighted) : 0.007363\n",
      "F1-score(weighted) : 0.007820\n",
      "\n"
     ]
    }
   ],
   "source": [
    "pred = best_gbm_pred\n",
    "\n",
    "class0 = [x if x == 0 else 5 for x in pred ]\n",
    "class1 = [x if x == 1 else 5 for x in pred ]\n",
    "class2 = [x if x == 2 else 5 for x in pred ]\n",
    "class3 = [x if x == 3 else 5 for x in pred ]\n",
    "class4 = [x if x == 4 else 5 for x in pred ]\n",
    "\n",
    "exist_model_score(test_y.values.ravel(), class0, 'weighted')\n",
    "exist_model_score(test_y.values.ravel(), class1, 'weighted')\n",
    "exist_model_score(test_y.values.ravel(), class2, 'weighted')\n",
    "exist_model_score(test_y.values.ravel(), class3, 'weighted')\n",
    "exist_model_score(test_y.values.ravel(), class4, 'weighted')"
   ]
  },
  {
   "cell_type": "code",
   "execution_count": null,
   "metadata": {},
   "outputs": [],
   "source": []
  }
 ],
 "metadata": {
  "kernelspec": {
   "display_name": "Python 3.9.12 ('lifelog')",
   "language": "python",
   "name": "python3"
  },
  "language_info": {
   "codemirror_mode": {
    "name": "ipython",
    "version": 3
   },
   "file_extension": ".py",
   "mimetype": "text/x-python",
   "name": "python",
   "nbconvert_exporter": "python",
   "pygments_lexer": "ipython3",
   "version": "3.9.12"
  },
  "orig_nbformat": 4,
  "vscode": {
   "interpreter": {
    "hash": "42da9d2a73a6d7daae2a97e6c37d06bd81de6a055efe49e5746b2a456ba1ff08"
   }
  }
 },
 "nbformat": 4,
 "nbformat_minor": 2
}
