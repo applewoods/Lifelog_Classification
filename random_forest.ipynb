{
 "cells": [
  {
   "cell_type": "code",
   "execution_count": null,
   "metadata": {},
   "outputs": [],
   "source": [
    "from warnings import filterwarnings\n",
    "filterwarnings(action= 'ignore')\n",
    "\n",
    "import pandas as pd\n",
    "import numpy as np\n",
    "\n",
    "from sklearn.model_selection import KFold\n",
    "from sklearn import preprocessing\n",
    "from sklearn.svm import SVC\n",
    "from sklearn.neighbors import KNeighborsClassifier\n",
    "from sklearn.ensemble import RandomForestClassifier\n",
    "from sklearn.naive_bayes import GaussianNB\n",
    "from sklearn.model_selection import GridSearchCV\n",
    "from sklearn.ensemble import VotingClassifier, BaggingClassifier, GradientBoostingClassifier\n",
    "\n",
    "from DataLoad import train_test\n",
    "from model_score import sklearn_model_score, exist_model_score\n",
    "\n",
    "import joblib"
   ]
  },
  {
   "cell_type": "code",
   "execution_count": 2,
   "metadata": {},
   "outputs": [
    {
     "name": "stderr",
     "output_type": "stream",
     "text": [
      "100%|██████████| 82/82 [00:18<00:00,  4.40it/s]\n",
      "100%|██████████| 18/18 [00:03<00:00,  4.70it/s]\n"
     ]
    }
   ],
   "source": [
    "train_X, train_y, test_X, test_y = train_test()\n",
    "kfold = KFold(n_splits= 5, shuffle= True, random_state= 0)"
   ]
  },
  {
   "cell_type": "code",
   "execution_count": null,
   "metadata": {},
   "outputs": [],
   "source": [
    "paramsRF_0 = {\n",
    "    'n_estimators': [100], # 고정\n",
    "    'max_features': ['auto'], # 고정\n",
    "    'n_jobs': [-1], # 고정\n",
    "    'max_depth': [8, 40, 80, 120, 160],\n",
    "    'min_samples_leaf': [6, 30, 60, 90, 120],\n",
    "    'min_samples_split' : [6] # 고정\n",
    "}\n",
    "\n",
    "paramsRF_1 = {\n",
    "    'n_estimators': [100], # 고정\n",
    "    'max_features': ['auto'], # 고정\n",
    "    'n_jobs': [-1], # 고정\n",
    "    'max_depth': [8, 40, 80, 120, 160],\n",
    "    'min_samples_leaf': [6],  # 고정\n",
    "    'min_samples_split' : [4, 20, 40, 60, 80]\n",
    "}\n",
    "\n",
    "paramsRF_2 = {\n",
    "    'n_estimators': [100], # 고정\n",
    "    'max_features': ['auto'], # 고정\n",
    "    'n_jobs': [-1], # 고정\n",
    "    'max_depth': [8], # 고정\n",
    "    'min_samples_leaf': [6, 30, 60, 90, 120],\n",
    "    'min_samples_split' : [4, 20, 40, 60, 80]\n",
    "}\n",
    "\n",
    "paramsRF_sets = [paramsRF_0, paramsRF_1, paramsRF_2]\n",
    "best_score = 0"
   ]
  },
  {
   "cell_type": "code",
   "execution_count": null,
   "metadata": {},
   "outputs": [],
   "source": [
    "for i in range(len(paramsRF_sets)):\n",
    "    params = paramsRF_sets[i]\n",
    "    index = \"{0:02d}\".format(i)\n",
    "    RF = RandomForestClassifier()\n",
    "    SearchRF = GridSearchCV(RF, param_grid= params, cv= kfold, refit= True, verbose= 2)\n",
    "    SearchRF.fit(train_X, train_y.values.ravel())\n",
    "\n",
    "    resultRF = pd.DataFrame(SearchRF.cv_results_)\n",
    "    resultRF.to_csv('./Data/Result/performance_rf'+index+'_.csv', index= False)\n",
    "    BestRF = SearchRF.best_estimator_\n",
    "    joblib.dump(BestRF, './models/model_rf'+index+'_best_estimator.pkl')\n",
    "    joblib.dump(SearchRF, './models/model_rf' + index + '_best.pkl')\n",
    "\n",
    "    best_rf_pred = SearchRF.predict(test_X)\n",
    "    \n",
    "    print(i, '번째 실험')\n",
    "    print('params :', BestRF)\n",
    "    sklearn_model_score(test_y.values.ravel(), best_rf_pred, 'macro')\n",
    "    sklearn_model_score(test_y.values.ravel(), best_rf_pred, 'micro')\n",
    "    exist_model_score(test_y.values.ravel(), best_rf_pred, 'weighted')"
   ]
  },
  {
   "cell_type": "code",
   "execution_count": 3,
   "metadata": {},
   "outputs": [
    {
     "name": "stdout",
     "output_type": "stream",
     "text": [
      "weighted 평균\n",
      "Accuracy : 0.943572\n",
      "Precision(weighted) : 0.942523\n",
      "Recall(weighted) : 0.943572\n",
      "F1-score(weighted) : 0.942801\n",
      "\n",
      "RandomForestClassifier(max_depth=120, min_samples_leaf=60, min_samples_split=6,\n",
      "                       n_jobs=-1)\n"
     ]
    }
   ],
   "source": [
    "rf = joblib.load('./models/model_rf00_best.pkl')\n",
    "best_rf_pred = rf.predict(test_X)\n",
    "\n",
    "# sklearn_model_score(test_y.values.ravel(), best_rf_pred, 'macro')\n",
    "# sklearn_model_score(test_y.values.ravel(), best_rf_pred, 'micro')\n",
    "exist_model_score(test_y.values.ravel(), best_rf_pred, 'weighted')\n",
    "\n",
    "print(rf.best_estimator_)"
   ]
  },
  {
   "cell_type": "code",
   "execution_count": 4,
   "metadata": {},
   "outputs": [
    {
     "name": "stdout",
     "output_type": "stream",
     "text": [
      "weighted 평균\n",
      "Accuracy : 0.182877\n",
      "Precision(weighted) : 0.182877\n",
      "Recall(weighted) : 0.182877\n",
      "F1-score(weighted) : 0.182877\n",
      "\n",
      "weighted 평균\n",
      "Accuracy : 0.479933\n",
      "Precision(weighted) : 0.475145\n",
      "Recall(weighted) : 0.479933\n",
      "F1-score(weighted) : 0.477527\n",
      "\n",
      "weighted 평균\n",
      "Accuracy : 0.255324\n",
      "Precision(weighted) : 0.253964\n",
      "Recall(weighted) : 0.255324\n",
      "F1-score(weighted) : 0.254642\n",
      "\n",
      "weighted 평균\n",
      "Accuracy : 0.018255\n",
      "Precision(weighted) : 0.021995\n",
      "Recall(weighted) : 0.018255\n",
      "F1-score(weighted) : 0.019951\n",
      "\n",
      "weighted 평균\n",
      "Accuracy : 0.007183\n",
      "Precision(weighted) : 0.008542\n",
      "Recall(weighted) : 0.007183\n",
      "F1-score(weighted) : 0.007804\n",
      "\n"
     ]
    }
   ],
   "source": [
    "class0 = [x if x == 0 else 5 for x in best_rf_pred ]\n",
    "class1 = [x if x == 1 else 5 for x in best_rf_pred ]\n",
    "class2 = [x if x == 2 else 5 for x in best_rf_pred ]\n",
    "class3 = [x if x == 3 else 5 for x in best_rf_pred ]\n",
    "class4 = [x if x == 4 else 5 for x in best_rf_pred ]\n",
    "\n",
    "exist_model_score(test_y.values.ravel(), class0, 'weighted')\n",
    "exist_model_score(test_y.values.ravel(), class1, 'weighted')\n",
    "exist_model_score(test_y.values.ravel(), class2, 'weighted')\n",
    "exist_model_score(test_y.values.ravel(), class3, 'weighted')\n",
    "exist_model_score(test_y.values.ravel(), class4, 'weighted')\n"
   ]
  },
  {
   "cell_type": "code",
   "execution_count": 5,
   "metadata": {},
   "outputs": [
    {
     "name": "stdout",
     "output_type": "stream",
     "text": [
      "weighted 평균\n",
      "Accuracy : 0.943413\n",
      "Precision(weighted) : 0.942307\n",
      "Recall(weighted) : 0.943413\n",
      "F1-score(weighted) : 0.942612\n",
      "\n",
      "RandomForestClassifier(max_depth=80, min_samples_leaf=6, min_samples_split=80,\n",
      "                       n_jobs=-1)\n"
     ]
    }
   ],
   "source": [
    "rf = joblib.load('./models/model_rf01_best.pkl')\n",
    "best_rf_pred = rf.predict(test_X)\n",
    "\n",
    "# sklearn_model_score(test_y.values.ravel(), best_rf_pred, 'macro')\n",
    "# sklearn_model_score(test_y.values.ravel(), best_rf_pred, 'micro')\n",
    "exist_model_score(test_y.values.ravel(), best_rf_pred, 'weighted')\n",
    "\n",
    "print(rf.best_estimator_)"
   ]
  },
  {
   "cell_type": "code",
   "execution_count": 6,
   "metadata": {},
   "outputs": [
    {
     "name": "stdout",
     "output_type": "stream",
     "text": [
      "weighted 평균\n",
      "Accuracy : 0.182877\n",
      "Precision(weighted) : 0.182877\n",
      "Recall(weighted) : 0.182877\n",
      "F1-score(weighted) : 0.182877\n",
      "\n",
      "weighted 평균\n",
      "Accuracy : 0.479976\n",
      "Precision(weighted) : 0.475047\n",
      "Recall(weighted) : 0.479976\n",
      "F1-score(weighted) : 0.477499\n",
      "\n",
      "weighted 평균\n",
      "Accuracy : 0.255165\n",
      "Precision(weighted) : 0.253987\n",
      "Recall(weighted) : 0.255165\n",
      "F1-score(weighted) : 0.254574\n",
      "\n",
      "weighted 평균\n",
      "Accuracy : 0.018075\n",
      "Precision(weighted) : 0.022137\n",
      "Recall(weighted) : 0.018075\n",
      "F1-score(weighted) : 0.019901\n",
      "\n",
      "weighted 평균\n",
      "Accuracy : 0.007321\n",
      "Precision(weighted) : 0.008260\n",
      "Recall(weighted) : 0.007321\n",
      "F1-score(weighted) : 0.007762\n",
      "\n"
     ]
    }
   ],
   "source": [
    "class0 = [x if x == 0 else 5 for x in best_rf_pred ]\n",
    "class1 = [x if x == 1 else 5 for x in best_rf_pred ]\n",
    "class2 = [x if x == 2 else 5 for x in best_rf_pred ]\n",
    "class3 = [x if x == 3 else 5 for x in best_rf_pred ]\n",
    "class4 = [x if x == 4 else 5 for x in best_rf_pred ]\n",
    "\n",
    "exist_model_score(test_y.values.ravel(), class0, 'weighted')\n",
    "exist_model_score(test_y.values.ravel(), class1, 'weighted')\n",
    "exist_model_score(test_y.values.ravel(), class2, 'weighted')\n",
    "exist_model_score(test_y.values.ravel(), class3, 'weighted')\n",
    "exist_model_score(test_y.values.ravel(), class4, 'weighted')"
   ]
  },
  {
   "cell_type": "code",
   "execution_count": 7,
   "metadata": {},
   "outputs": [
    {
     "name": "stdout",
     "output_type": "stream",
     "text": [
      "weighted 평균\n",
      "Accuracy : 0.943360\n",
      "Precision(weighted) : 0.942449\n",
      "Recall(weighted) : 0.943360\n",
      "F1-score(weighted) : 0.942626\n",
      "\n",
      "RandomForestClassifier(max_depth=8, min_samples_leaf=6, min_samples_split=80,\n",
      "                       n_jobs=-1)\n"
     ]
    }
   ],
   "source": [
    "rf = joblib.load('./models/model_rf02_best.pkl')\n",
    "best_rf_pred = rf.predict(test_X)\n",
    "\n",
    "# sklearn_model_score(test_y.values.ravel(), best_rf_pred, 'macro')\n",
    "# sklearn_model_score(test_y.values.ravel(), best_rf_pred, 'micro')\n",
    "exist_model_score(test_y.values.ravel(), best_rf_pred, 'weighted')\n",
    "\n",
    "print(rf.best_estimator_)"
   ]
  },
  {
   "cell_type": "code",
   "execution_count": 8,
   "metadata": {},
   "outputs": [
    {
     "name": "stdout",
     "output_type": "stream",
     "text": [
      "weighted 평균\n",
      "Accuracy : 0.182877\n",
      "Precision(weighted) : 0.182877\n",
      "Recall(weighted) : 0.182877\n",
      "F1-score(weighted) : 0.182877\n",
      "\n",
      "weighted 평균\n",
      "Accuracy : 0.478959\n",
      "Precision(weighted) : 0.475786\n",
      "Recall(weighted) : 0.478959\n",
      "F1-score(weighted) : 0.477367\n",
      "\n",
      "weighted 평균\n",
      "Accuracy : 0.256214\n",
      "Precision(weighted) : 0.253073\n",
      "Recall(weighted) : 0.256214\n",
      "F1-score(weighted) : 0.254634\n",
      "\n",
      "weighted 평균\n",
      "Accuracy : 0.018371\n",
      "Precision(weighted) : 0.022001\n",
      "Recall(weighted) : 0.018371\n",
      "F1-score(weighted) : 0.020023\n",
      "\n",
      "weighted 평균\n",
      "Accuracy : 0.006940\n",
      "Precision(weighted) : 0.008712\n",
      "Recall(weighted) : 0.006940\n",
      "F1-score(weighted) : 0.007726\n",
      "\n"
     ]
    }
   ],
   "source": [
    "class0 = [x if x == 0 else 5 for x in best_rf_pred ]\n",
    "class1 = [x if x == 1 else 5 for x in best_rf_pred ]\n",
    "class2 = [x if x == 2 else 5 for x in best_rf_pred ]\n",
    "class3 = [x if x == 3 else 5 for x in best_rf_pred ]\n",
    "class4 = [x if x == 4 else 5 for x in best_rf_pred ]\n",
    "\n",
    "exist_model_score(test_y.values.ravel(), class0, 'weighted')\n",
    "exist_model_score(test_y.values.ravel(), class1, 'weighted')\n",
    "exist_model_score(test_y.values.ravel(), class2, 'weighted')\n",
    "exist_model_score(test_y.values.ravel(), class3, 'weighted')\n",
    "exist_model_score(test_y.values.ravel(), class4, 'weighted')"
   ]
  },
  {
   "cell_type": "code",
   "execution_count": null,
   "metadata": {},
   "outputs": [],
   "source": []
  }
 ],
 "metadata": {
  "kernelspec": {
   "display_name": "Python 3.9.12 ('lifelog')",
   "language": "python",
   "name": "python3"
  },
  "language_info": {
   "codemirror_mode": {
    "name": "ipython",
    "version": 3
   },
   "file_extension": ".py",
   "mimetype": "text/x-python",
   "name": "python",
   "nbconvert_exporter": "python",
   "pygments_lexer": "ipython3",
   "version": "3.9.12"
  },
  "orig_nbformat": 4,
  "vscode": {
   "interpreter": {
    "hash": "42da9d2a73a6d7daae2a97e6c37d06bd81de6a055efe49e5746b2a456ba1ff08"
   }
  }
 },
 "nbformat": 4,
 "nbformat_minor": 2
}
