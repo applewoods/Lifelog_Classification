{
 "cells": [
  {
   "cell_type": "code",
   "execution_count": 1,
   "metadata": {},
   "outputs": [],
   "source": [
    "from warnings import filterwarnings\n",
    "filterwarnings(action= 'ignore')\n",
    "\n",
    "from sklearn.model_selection import KFold\n",
    "from sklearn import preprocessing\n",
    "from sklearn.svm import SVC\n",
    "from sklearn.neighbors import KNeighborsClassifier\n",
    "from sklearn.ensemble import RandomForestClassifier\n",
    "from sklearn.naive_bayes import GaussianNB\n",
    "from sklearn.model_selection import GridSearchCV\n",
    "from sklearn.ensemble import VotingClassifier, BaggingClassifier, GradientBoostingClassifier\n",
    "\n",
    "from DataLoad import train_test\n",
    "from model_score import sklearn_model_score, exist_model_score\n",
    "\n",
    "import joblib"
   ]
  },
  {
   "cell_type": "code",
   "execution_count": 2,
   "metadata": {},
   "outputs": [
    {
     "name": "stderr",
     "output_type": "stream",
     "text": [
      "100%|██████████| 82/82 [00:18<00:00,  4.50it/s]\n",
      "100%|██████████| 18/18 [00:03<00:00,  4.84it/s]\n"
     ]
    }
   ],
   "source": [
    "train_X, train_y, test_X, test_y = train_test()\n",
    "kfold = KFold(n_splits= 5, shuffle= True, random_state= 0)"
   ]
  },
  {
   "cell_type": "code",
   "execution_count": 15,
   "metadata": {},
   "outputs": [],
   "source": [
    "models = [\n",
    "    ('RF1', RandomForestClassifier(max_depth= 80, min_samples_leaf= 30, min_samples_split= 6)),\n",
    "    ('NB', GaussianNB()),\n",
    "    ('SVM', SVC(C=100, gamma= 10, probability= True)),\n",
    "    ('RF2', RandomForestClassifier(max_depth= 40, min_samples_leaf= 6, min_samples_split= 80)),\n",
    "    ('RF3', RandomForestClassifier(max_depth= 8, min_samples_leaf= 60, min_samples_split= 40))\n",
    "]"
   ]
  },
  {
   "cell_type": "code",
   "execution_count": 3,
   "metadata": {},
   "outputs": [
    {
     "ename": "NameError",
     "evalue": "name 'models' is not defined",
     "output_type": "error",
     "traceback": [
      "\u001b[0;31m---------------------------------------------------------------------------\u001b[0m",
      "\u001b[0;31mNameError\u001b[0m                                 Traceback (most recent call last)",
      "\u001b[1;32m/Users/woo/Desktop/Project/LifelogData/ensemble_voting.ipynb Cell 4'\u001b[0m in \u001b[0;36m<cell line: 2>\u001b[0;34m()\u001b[0m\n\u001b[1;32m      <a href='vscode-notebook-cell:/Users/woo/Desktop/Project/LifelogData/ensemble_voting.ipynb#ch0000003?line=0'>1</a>\u001b[0m \u001b[39m# hard vote\u001b[39;00m\n\u001b[0;32m----> <a href='vscode-notebook-cell:/Users/woo/Desktop/Project/LifelogData/ensemble_voting.ipynb#ch0000003?line=1'>2</a>\u001b[0m hard_vote \u001b[39m=\u001b[39m VotingClassifier(models, voting\u001b[39m=\u001b[39m \u001b[39m'\u001b[39m\u001b[39mhard\u001b[39m\u001b[39m'\u001b[39m)\n\u001b[1;32m      <a href='vscode-notebook-cell:/Users/woo/Desktop/Project/LifelogData/ensemble_voting.ipynb#ch0000003?line=2'>3</a>\u001b[0m hard_vote\u001b[39m.\u001b[39mfit(train_X, train_y\u001b[39m.\u001b[39mvalues\u001b[39m.\u001b[39mravel())\n\u001b[1;32m      <a href='vscode-notebook-cell:/Users/woo/Desktop/Project/LifelogData/ensemble_voting.ipynb#ch0000003?line=4'>5</a>\u001b[0m joblib\u001b[39m.\u001b[39mdump(hard_vote\u001b[39m.\u001b[39mestimators_, \u001b[39m'\u001b[39m\u001b[39m./models/model_hard_vote_estimators.pkl\u001b[39m\u001b[39m'\u001b[39m)\n",
      "\u001b[0;31mNameError\u001b[0m: name 'models' is not defined"
     ]
    }
   ],
   "source": [
    "# hard vote\n",
    "hard_vote = VotingClassifier(models, voting= 'hard')\n",
    "hard_vote.fit(train_X, train_y.values.ravel())\n",
    "\n",
    "joblib.dump(hard_vote.estimators_, './models/model_hard_vote_estimators.pkl')\n",
    "joblib.dump(hard_vote, './models/model_hard_vote.pkl')"
   ]
  },
  {
   "cell_type": "code",
   "execution_count": 9,
   "metadata": {},
   "outputs": [
    {
     "data": {
      "text/plain": [
       "[('RF1',\n",
       "  RandomForestClassifier(max_depth=80, min_samples_leaf=30, min_samples_split=6)),\n",
       " ('NB', GaussianNB()),\n",
       " ('SVM', SVC(C=100, gamma=10)),\n",
       " ('RF2',\n",
       "  RandomForestClassifier(max_depth=40, min_samples_leaf=6, min_samples_split=80)),\n",
       " ('RF3',\n",
       "  RandomForestClassifier(max_depth=8, min_samples_leaf=60, min_samples_split=40))]"
      ]
     },
     "execution_count": 9,
     "metadata": {},
     "output_type": "execute_result"
    }
   ],
   "source": [
    "hard_vote.estimators"
   ]
  },
  {
   "cell_type": "code",
   "execution_count": 3,
   "metadata": {},
   "outputs": [
    {
     "name": "stdout",
     "output_type": "stream",
     "text": [
      "weighted 평균\n",
      "Accuracy : 0.943667\n",
      "Precision(weighted) : 0.942592\n",
      "Recall(weighted) : 0.943667\n",
      "F1-score(weighted) : 0.942857\n",
      "\n"
     ]
    }
   ],
   "source": [
    "hard_vote = joblib.load('./models/model_hard_vote.pkl')\n",
    "best_hard_vote_pred = hard_vote.predict(test_X)\n",
    "# sklearn_model_score(test_y.values.ravel(), best_hard_vote_pred, 'macro')\n",
    "# sklearn_model_score(test_y.values.ravel(), best_hard_vote_pred, 'micro')\n",
    "exist_model_score(test_y.values.ravel(), best_hard_vote_pred, 'weighted')"
   ]
  },
  {
   "cell_type": "code",
   "execution_count": 4,
   "metadata": {},
   "outputs": [
    {
     "data": {
      "text/plain": [
       "{0, 1, 2, 3, 4}"
      ]
     },
     "execution_count": 4,
     "metadata": {},
     "output_type": "execute_result"
    }
   ],
   "source": [
    "set(best_hard_vote_pred)"
   ]
  },
  {
   "cell_type": "code",
   "execution_count": 9,
   "metadata": {},
   "outputs": [
    {
     "name": "stdout",
     "output_type": "stream",
     "text": [
      "weighted 평균\n",
      "Accuracy : 0.182877\n",
      "Precision(weighted) : 0.182877\n",
      "Recall(weighted) : 0.182877\n",
      "F1-score(weighted) : 0.182877\n",
      "\n",
      "weighted 평균\n",
      "Accuracy : 0.480220\n",
      "Precision(weighted) : 0.474897\n",
      "Recall(weighted) : 0.480220\n",
      "F1-score(weighted) : 0.477544\n",
      "\n",
      "weighted 평균\n",
      "Accuracy : 0.255239\n",
      "Precision(weighted) : 0.254118\n",
      "Recall(weighted) : 0.255239\n",
      "F1-score(weighted) : 0.254677\n",
      "\n",
      "weighted 평균\n",
      "Accuracy : 0.018234\n",
      "Precision(weighted) : 0.022115\n",
      "Recall(weighted) : 0.018234\n",
      "F1-score(weighted) : 0.019988\n",
      "\n",
      "weighted 평균\n",
      "Accuracy : 0.007099\n",
      "Precision(weighted) : 0.008585\n",
      "Recall(weighted) : 0.007099\n",
      "F1-score(weighted) : 0.007771\n",
      "\n"
     ]
    }
   ],
   "source": [
    "pred = best_hard_vote_pred\n",
    "\n",
    "class0 = [x if x == 0 else 5 for x in pred ]\n",
    "class1 = [x if x == 1 else 5 for x in pred ]\n",
    "class2 = [x if x == 2 else 5 for x in pred ]\n",
    "class3 = [x if x == 3 else 5 for x in pred ]\n",
    "class4 = [x if x == 4 else 5 for x in pred ]\n",
    "\n",
    "exist_model_score(test_y.values.ravel(), class0, 'weighted')\n",
    "exist_model_score(test_y.values.ravel(), class1, 'weighted')\n",
    "exist_model_score(test_y.values.ravel(), class2, 'weighted')\n",
    "exist_model_score(test_y.values.ravel(), class3, 'weighted')\n",
    "exist_model_score(test_y.values.ravel(), class4, 'weighted')"
   ]
  },
  {
   "cell_type": "code",
   "execution_count": 16,
   "metadata": {},
   "outputs": [
    {
     "data": {
      "text/plain": [
       "['./models/model_soft_vote.pkl']"
      ]
     },
     "execution_count": 16,
     "metadata": {},
     "output_type": "execute_result"
    }
   ],
   "source": [
    "# soft vote\n",
    "soft_vote = VotingClassifier(models, voting= 'soft')\n",
    "soft_vote.fit(train_X, train_y.values.ravel())\n",
    "\n",
    "joblib.dump(soft_vote.estimators_, './models/model_soft_vote_estimators.pkl')\n",
    "joblib.dump(soft_vote, './models/model_soft_vote.pkl')"
   ]
  },
  {
   "cell_type": "code",
   "execution_count": 6,
   "metadata": {},
   "outputs": [
    {
     "name": "stdout",
     "output_type": "stream",
     "text": [
      "macro 평균\n",
      "Accuracy : 0.943254\n",
      "Precision(macro) : 0.899170\n",
      "Recall(macro) : 0.847136\n",
      "F1-score(macro) : 0.870639\n",
      "\n",
      "micro 평균\n",
      "Accuracy : 0.943254\n",
      "Precision(micro) : 0.943254\n",
      "Recall(micro) : 0.943254\n",
      "F1-score(micro) : 0.943254\n",
      "\n",
      "weighted 평균\n",
      "Accuracy : 0.943254\n",
      "Precision(weighted) : 0.942276\n",
      "Recall(weighted) : 0.943254\n",
      "F1-score(weighted) : 0.942537\n",
      "\n"
     ]
    }
   ],
   "source": [
    "soft_vote = joblib.load('./models/model_soft_vote.pkl')\n",
    "best_soft_vote_pred = soft_vote.predict(test_X)\n",
    "# sklearn_model_score(test_y.values.ravel(), best_soft_vote_pred, 'macro')\n",
    "# sklearn_model_score(test_y.values.ravel(), best_soft_vote_pred, 'micro')\n",
    "exist_model_score(test_y.values.ravel(), best_soft_vote_pred, 'weighted')"
   ]
  },
  {
   "cell_type": "code",
   "execution_count": 7,
   "metadata": {},
   "outputs": [
    {
     "data": {
      "text/plain": [
       "{0, 1, 2, 3, 4}"
      ]
     },
     "execution_count": 7,
     "metadata": {},
     "output_type": "execute_result"
    }
   ],
   "source": [
    "set(best_soft_vote_pred)"
   ]
  },
  {
   "cell_type": "code",
   "execution_count": 10,
   "metadata": {},
   "outputs": [
    {
     "name": "stdout",
     "output_type": "stream",
     "text": [
      "weighted 평균\n",
      "Accuracy : 0.182877\n",
      "Precision(weighted) : 0.182877\n",
      "Recall(weighted) : 0.182877\n",
      "F1-score(weighted) : 0.182877\n",
      "\n",
      "weighted 평균\n",
      "Accuracy : 0.479870\n",
      "Precision(weighted) : 0.474792\n",
      "Recall(weighted) : 0.479870\n",
      "F1-score(weighted) : 0.477317\n",
      "\n",
      "weighted 평균\n",
      "Accuracy : 0.254815\n",
      "Precision(weighted) : 0.254030\n",
      "Recall(weighted) : 0.254815\n",
      "F1-score(weighted) : 0.254422\n",
      "\n",
      "weighted 평균\n",
      "Accuracy : 0.018583\n",
      "Precision(weighted) : 0.021911\n",
      "Recall(weighted) : 0.018583\n",
      "F1-score(weighted) : 0.020111\n",
      "\n",
      "weighted 평균\n",
      "Accuracy : 0.007109\n",
      "Precision(weighted) : 0.008666\n",
      "Recall(weighted) : 0.007109\n",
      "F1-score(weighted) : 0.007811\n",
      "\n"
     ]
    }
   ],
   "source": [
    "pred = best_soft_vote_pred\n",
    "\n",
    "class0 = [x if x == 0 else 5 for x in pred ]\n",
    "class1 = [x if x == 1 else 5 for x in pred ]\n",
    "class2 = [x if x == 2 else 5 for x in pred ]\n",
    "class3 = [x if x == 3 else 5 for x in pred ]\n",
    "class4 = [x if x == 4 else 5 for x in pred ]\n",
    "\n",
    "exist_model_score(test_y.values.ravel(), class0, 'weighted')\n",
    "exist_model_score(test_y.values.ravel(), class1, 'weighted')\n",
    "exist_model_score(test_y.values.ravel(), class2, 'weighted')\n",
    "exist_model_score(test_y.values.ravel(), class3, 'weighted')\n",
    "exist_model_score(test_y.values.ravel(), class4, 'weighted')"
   ]
  },
  {
   "cell_type": "code",
   "execution_count": null,
   "metadata": {},
   "outputs": [],
   "source": []
  }
 ],
 "metadata": {
  "kernelspec": {
   "display_name": "Python 3.9.12 ('lifelog')",
   "language": "python",
   "name": "python3"
  },
  "language_info": {
   "codemirror_mode": {
    "name": "ipython",
    "version": 3
   },
   "file_extension": ".py",
   "mimetype": "text/x-python",
   "name": "python",
   "nbconvert_exporter": "python",
   "pygments_lexer": "ipython3",
   "version": "3.9.12"
  },
  "orig_nbformat": 4,
  "vscode": {
   "interpreter": {
    "hash": "42da9d2a73a6d7daae2a97e6c37d06bd81de6a055efe49e5746b2a456ba1ff08"
   }
  }
 },
 "nbformat": 4,
 "nbformat_minor": 2
}
