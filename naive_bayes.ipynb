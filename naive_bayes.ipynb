{
 "cells": [
  {
   "cell_type": "code",
   "execution_count": 1,
   "metadata": {},
   "outputs": [],
   "source": [
    "from warnings import filterwarnings\n",
    "filterwarnings(action= 'ignore')\n",
    "\n",
    "import pandas as pd\n",
    "import numpy as np\n",
    "\n",
    "from sklearn.model_selection import KFold\n",
    "from sklearn import preprocessing\n",
    "from sklearn.svm import SVC\n",
    "from sklearn.neighbors import KNeighborsClassifier\n",
    "from sklearn.ensemble import RandomForestClassifier\n",
    "from sklearn.naive_bayes import GaussianNB\n",
    "from sklearn.model_selection import GridSearchCV\n",
    "from sklearn.ensemble import VotingClassifier, BaggingClassifier, GradientBoostingClassifier\n",
    "\n",
    "from DataLoad import train_test\n",
    "from model_score import sklearn_model_score, exist_model_score\n",
    "\n",
    "import joblib"
   ]
  },
  {
   "cell_type": "code",
   "execution_count": 2,
   "metadata": {},
   "outputs": [
    {
     "name": "stderr",
     "output_type": "stream",
     "text": [
      "100%|██████████| 82/82 [00:18<00:00,  4.49it/s]\n",
      "100%|██████████| 18/18 [00:03<00:00,  4.75it/s]\n"
     ]
    }
   ],
   "source": [
    "train_X, train_y, test_X, test_y = train_test()\n",
    "kfold = KFold(n_splits= 5, shuffle= True, random_state= 0)"
   ]
  },
  {
   "cell_type": "code",
   "execution_count": 3,
   "metadata": {},
   "outputs": [],
   "source": [
    "paramsNB = {}"
   ]
  },
  {
   "cell_type": "code",
   "execution_count": 4,
   "metadata": {},
   "outputs": [
    {
     "name": "stdout",
     "output_type": "stream",
     "text": [
      "Fitting 5 folds for each of 1 candidates, totalling 5 fits\n",
      "[CV] END .................................................... total time=   0.1s\n",
      "[CV] END .................................................... total time=   0.1s\n",
      "[CV] END .................................................... total time=   0.1s\n",
      "[CV] END .................................................... total time=   0.1s\n",
      "[CV] END .................................................... total time=   0.1s\n"
     ]
    },
    {
     "data": {
      "text/plain": [
       "['./models/model_nb_best.pkl']"
      ]
     },
     "execution_count": 4,
     "metadata": {},
     "output_type": "execute_result"
    }
   ],
   "source": [
    "NB = GaussianNB()\n",
    "SearchNB = GridSearchCV(NB, param_grid=paramsNB, cv=kfold, refit=True, verbose=2)\n",
    "\n",
    "SearchNB.fit(train_X, train_y.values.ravel())\n",
    "result = pd.DataFrame(SearchNB.cv_results_)\n",
    "result.to_csv('./Data/Result/performance_nb_.csv', index= False)\n",
    "BestNB = SearchNB.best_estimator_\n",
    "joblib.dump(BestNB, './models/model_nb_best_estimator.pkl')\n",
    "joblib.dump(SearchNB, './models/model_nb_best.pkl')"
   ]
  },
  {
   "cell_type": "code",
   "execution_count": 3,
   "metadata": {},
   "outputs": [
    {
     "name": "stdout",
     "output_type": "stream",
     "text": [
      "weighted 평균\n",
      "Accuracy : 0.936823\n",
      "Precision(weighted) : 0.938346\n",
      "Recall(weighted) : 0.936823\n",
      "F1-score(weighted) : 0.937217\n",
      "\n"
     ]
    }
   ],
   "source": [
    "nv = joblib.load('./models/model_nb_best.pkl')\n",
    "best_nb_pred = nv.predict(test_X)\n",
    "\n",
    "# sklearn_model_score(test_y.values.ravel(), best_nb_pred, 'macro')\n",
    "# sklearn_model_score(test_y.values.ravel(), best_nb_pred, 'micro')\n",
    "exist_model_score(test_y.values.ravel(), best_nb_pred, 'weighted')"
   ]
  },
  {
   "cell_type": "code",
   "execution_count": 4,
   "metadata": {},
   "outputs": [
    {
     "data": {
      "text/plain": [
       "{0, 1, 2, 3, 4}"
      ]
     },
     "execution_count": 4,
     "metadata": {},
     "output_type": "execute_result"
    }
   ],
   "source": [
    "set(best_nb_pred)"
   ]
  },
  {
   "cell_type": "code",
   "execution_count": 5,
   "metadata": {},
   "outputs": [
    {
     "name": "stdout",
     "output_type": "stream",
     "text": [
      "weighted 평균\n",
      "Accuracy : 0.182877\n",
      "Precision(weighted) : 0.182877\n",
      "Recall(weighted) : 0.182877\n",
      "F1-score(weighted) : 0.182877\n",
      "\n",
      "weighted 평균\n",
      "Accuracy : 0.477391\n",
      "Precision(weighted) : 0.474268\n",
      "Recall(weighted) : 0.477391\n",
      "F1-score(weighted) : 0.475824\n",
      "\n",
      "weighted 평균\n",
      "Accuracy : 0.247696\n",
      "Precision(weighted) : 0.254167\n",
      "Recall(weighted) : 0.247696\n",
      "F1-score(weighted) : 0.250889\n",
      "\n",
      "weighted 평균\n",
      "Accuracy : 0.022164\n",
      "Precision(weighted) : 0.018295\n",
      "Recall(weighted) : 0.022164\n",
      "F1-score(weighted) : 0.020045\n",
      "\n",
      "weighted 평균\n",
      "Accuracy : 0.006696\n",
      "Precision(weighted) : 0.008739\n",
      "Recall(weighted) : 0.006696\n",
      "F1-score(weighted) : 0.007582\n",
      "\n"
     ]
    }
   ],
   "source": [
    "pred = best_nb_pred\n",
    "\n",
    "class0 = [x if x == 0 else 5 for x in pred ]\n",
    "class1 = [x if x == 1 else 5 for x in pred ]\n",
    "class2 = [x if x == 2 else 5 for x in pred ]\n",
    "class3 = [x if x == 3 else 5 for x in pred ]\n",
    "class4 = [x if x == 4 else 5 for x in pred ]\n",
    "\n",
    "exist_model_score(test_y.values.ravel(), class0, 'weighted')\n",
    "exist_model_score(test_y.values.ravel(), class1, 'weighted')\n",
    "exist_model_score(test_y.values.ravel(), class2, 'weighted')\n",
    "exist_model_score(test_y.values.ravel(), class3, 'weighted')\n",
    "exist_model_score(test_y.values.ravel(), class4, 'weighted')"
   ]
  },
  {
   "cell_type": "code",
   "execution_count": null,
   "metadata": {},
   "outputs": [],
   "source": []
  }
 ],
 "metadata": {
  "kernelspec": {
   "display_name": "Python 3.9.12 ('lifelog')",
   "language": "python",
   "name": "python3"
  },
  "language_info": {
   "codemirror_mode": {
    "name": "ipython",
    "version": 3
   },
   "file_extension": ".py",
   "mimetype": "text/x-python",
   "name": "python",
   "nbconvert_exporter": "python",
   "pygments_lexer": "ipython3",
   "version": "3.9.12"
  },
  "orig_nbformat": 4,
  "vscode": {
   "interpreter": {
    "hash": "42da9d2a73a6d7daae2a97e6c37d06bd81de6a055efe49e5746b2a456ba1ff08"
   }
  }
 },
 "nbformat": 4,
 "nbformat_minor": 2
}
